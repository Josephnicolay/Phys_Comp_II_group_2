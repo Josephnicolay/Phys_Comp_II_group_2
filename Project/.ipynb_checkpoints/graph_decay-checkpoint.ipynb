{
 "cells": [
  {
   "cell_type": "code",
   "execution_count": 1,
   "id": "c0729d20",
   "metadata": {},
   "outputs": [
    {
     "data": {
      "image/png": "[encoded data removed]",
      "text/plain": [
       "<IPython.core.display.Image object>"
      ]
     },
     "metadata": {},
     "output_type": "display_data"
    }
   ],
   "source": [
    "{\n",
    "    TCanvas *c = new TCanvas(\"c\",\"Graph1D\",0,0,800,400);\n",
    "\n",
    "    TGraph *dt = new TGraph(\"decay.dat\");\n",
    "    dt->SetTitle(\"Decay; Time ; Number of atoms \");\n",
    "    \n",
    "    dt->SetMarkerColor(36);\n",
    "    dt->SetMarkerSize(0.5);\n",
    "    dt->SetMarkerStyle(5);\n",
    "\n",
    "    dt->Draw();\n",
    "    c->Draw();\n",
    "    return c;\n",
    "}"
   ]
  },
  {
   "cell_type": "code",
   "execution_count": 4,
   "id": "d4303a55",
   "metadata": {},
   "outputs": [
    {
     "name": "stderr",
     "output_type": "stream",
     "text": [
      "\u001b[1minput_line_99:15:37: \u001b[0m\u001b[0;1;31merror: \u001b[0m\u001b[1mmember reference base type 'TGraph *' is not a structure or union\u001b[0m\n",
      "        grafico[0]->SetPoint(grafico->GetN(), time, count1);\n",
      "\u001b[0;1;32m                             ~~~~~~~^ ~~~~\n",
      "\u001b[0m\u001b[1minput_line_99:18:37: \u001b[0m\u001b[0;1;31merror: \u001b[0m\u001b[1mmember reference base type 'TGraph *' is not a structure or union\u001b[0m\n",
      "        grafico[1]->SetPoint(grafico->GetN(), time, count2);\n",
      "\u001b[0;1;32m                             ~~~~~~~^ ~~~~\n",
      "\u001b[0m"
     ]
    }
   ],
   "source": [
    "{\n",
    "    TGraph *grafico[2];\n",
    "    \n",
    "    TMultiGraph *Multigrafico = new TMultiGraph();\n",
    "    \n",
    "    fstream file;\n",
    "    file.open(\"population.txt\", ios::in);\n",
    "    \n",
    "    while(1)\n",
    "    {\n",
    "        float time, count1, count2;\n",
    "        file >> time >> count1 >> count2;\n",
    "\n",
    "        grafico[0]->SetPoint(time, count1);\n",
    "        Multigrafico->Add(grafico[0]);\n",
    "        \n",
    "        grafico[1]->SetPoint(time, count2);\n",
    "        Multigrafico->Add(grafico[1]); \n",
    "    }\n",
    "    Multigrafico->Draw(\"AL\");\n",
    "    file.close();\n",
    "    \n",
    "    \n",
    "}"
   ]
  },
  {
   "cell_type": "code",
   "execution_count": null,
   "id": "fe1c8165",
   "metadata": {},
   "outputs": [],
   "source": []
  }
 ],
 "metadata": {
  "kernelspec": {
   "display_name": "ROOT C++",
   "language": "c++",
   "name": "root"
  },
  "language_info": {
   "codemirror_mode": "text/x-c++src",
   "file_extension": ".C",
   "mimetype": " text/x-c++src",
   "name": "c++"
  }
 },
 "nbformat": 4,
 "nbformat_minor": 5
}
